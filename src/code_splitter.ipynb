{
 "cells": [
  {
   "cell_type": "code",
   "execution_count": 3,
   "metadata": {},
   "outputs": [],
   "source": [
    "from common import get_llm, get_embedding,get_vector_store\n",
    "\n",
    "model = get_llm()\n",
    "ollama_embedding = get_embedding()\n",
    "vector_store = get_vector_store()"
   ]
  },
  {
   "cell_type": "markdown",
   "metadata": {},
   "source": [
    "读取本地python文件"
   ]
  },
  {
   "cell_type": "code",
   "execution_count": 8,
   "metadata": {},
   "outputs": [
    {
     "data": {
      "text/plain": [
       "[Document(metadata={}, page_content='import os'),\n",
       " Document(metadata={}, page_content='from langchain_chroma import Chroma'),\n",
       " Document(metadata={}, page_content='from langchain_community.llms.ollama import'),\n",
       " Document(metadata={}, page_content='Ollama'),\n",
       " Document(metadata={}, page_content='from langchain_community.embeddings import'),\n",
       " Document(metadata={}, page_content='OllamaEmbeddings'),\n",
       " Document(metadata={}, page_content='default_llm = \"qwen2.5:72b\"'),\n",
       " Document(metadata={}, page_content='base_ollama_url = \"http://gpt:11434\"'),\n",
       " Document(metadata={}, page_content='_model = None\\n_ollama_embedding = None'),\n",
       " Document(metadata={}, page_content='_vector_store = None'),\n",
       " Document(metadata={}, page_content='def set_langsmith_env():'),\n",
       " Document(metadata={}, page_content='lang_smith_api_key ='),\n",
       " Document(metadata={}, page_content='\"lsv2_pt_de8e0f31d1dd4bc7af7a6b8a66c6af6c_014993d'),\n",
       " Document(metadata={}, page_content='20f\"'),\n",
       " Document(metadata={}, page_content='os.environ[\"LANGCHAIN_TRACING_V2\"] = \"true\"'),\n",
       " Document(metadata={}, page_content='os.environ[\"LANGCHAIN_API_KEY\"] ='),\n",
       " Document(metadata={}, page_content='lang_smith_api_key'),\n",
       " Document(metadata={}, page_content='def get_vector_store():\\n    global _vector_store'),\n",
       " Document(metadata={}, page_content='if _vector_store is None:'),\n",
       " Document(metadata={}, page_content='_vector_store = Chroma('),\n",
       " Document(metadata={}, page_content='embedding_function=get_embedding(),'),\n",
       " Document(metadata={}, page_content='persist_directory=\"chroma_db\"'),\n",
       " Document(metadata={}, page_content=')\\n    return _vector_store'),\n",
       " Document(metadata={}, page_content='def get_llm():\\n    global _model'),\n",
       " Document(metadata={}, page_content='if _model is None:'),\n",
       " Document(metadata={}, page_content='_model = Ollama(model=default_llm,'),\n",
       " Document(metadata={}, page_content='base_url=base_ollama_url)'),\n",
       " Document(metadata={}, page_content='return _model'),\n",
       " Document(metadata={}, page_content='def get_embedding():\\n    global _ollama_embedding'),\n",
       " Document(metadata={}, page_content='if _ollama_embedding is None:'),\n",
       " Document(metadata={}, page_content='_ollama_embedding = OllamaEmbeddings('),\n",
       " Document(metadata={}, page_content='model=default_llm,'),\n",
       " Document(metadata={}, page_content='base_url=base_ollama_url, show_progress=True'),\n",
       " Document(metadata={}, page_content=')\\n    return _ollama_embedding'),\n",
       " Document(metadata={}, page_content='set_langsmith_env()')]"
      ]
     },
     "execution_count": 8,
     "metadata": {},
     "output_type": "execute_result"
    }
   ],
   "source": [
    "from langchain_text_splitters import (\n",
    "    Language,\n",
    "    RecursiveCharacterTextSplitter,\n",
    ")\n",
    "\n",
    "\n",
    "with open(\"common.py\", \"r\", encoding=\"utf-8\") as f:\n",
    "    PYTHON_CODE = f.read()\n",
    "\n",
    "\n",
    "python_splitter = RecursiveCharacterTextSplitter.from_language(\n",
    "    language=Language.PYTHON, chunk_size=50, chunk_overlap=0\n",
    ")\n",
    "python_docs = python_splitter.create_documents([PYTHON_CODE])\n",
    "python_docs"
   ]
  }
 ],
 "metadata": {
  "kernelspec": {
   "display_name": ".venv",
   "language": "python",
   "name": "python3"
  },
  "language_info": {
   "codemirror_mode": {
    "name": "ipython",
    "version": 3
   },
   "file_extension": ".py",
   "mimetype": "text/x-python",
   "name": "python",
   "nbconvert_exporter": "python",
   "pygments_lexer": "ipython3",
   "version": "3.11.7"
  }
 },
 "nbformat": 4,
 "nbformat_minor": 2
}
